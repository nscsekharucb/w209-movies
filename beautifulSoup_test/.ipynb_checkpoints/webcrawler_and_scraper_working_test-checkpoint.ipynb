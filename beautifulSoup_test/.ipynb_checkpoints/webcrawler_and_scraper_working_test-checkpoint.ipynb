{
 "cells": [
  {
   "cell_type": "markdown",
   "metadata": {},
   "source": [
    "Scraping Tutorial\n",
    "https://www.youtube.com/watch?v=XjNm9bazxn8&index=5&list=WL"
   ]
  },
  {
   "cell_type": "code",
   "execution_count": 1,
   "metadata": {
    "collapsed": true
   },
   "outputs": [],
   "source": [
    "import requests\n",
    "from bs4 import BeautifulSoup\n",
    "import json\n",
    "import datetime\n",
    "import time"
   ]
  },
  {
   "cell_type": "markdown",
   "metadata": {},
   "source": [
    "## TODO: \n",
    "- Dump all data into a single file instead of weekly files.\n",
    "- Further cleanup of data types being pushed into the dict."
   ]
  },
  {
   "cell_type": "code",
   "execution_count": 213,
   "metadata": {
    "collapsed": true
   },
   "outputs": [],
   "source": [
    "def the_numbers_spider(max_pages):\n",
    "    ''' Crawler starts from a hardcoded start date, scrapes the weekly data into a json file, \n",
    "    then increments by a week and repeats until the max page is reached.\n",
    "    \n",
    "    Args:\n",
    "        max_pages (int): The maximum number of pages one wants to crawl.\n",
    "    '''\n",
    "    \n",
    "    # Page counter.\n",
    "    page = 1\n",
    "    \n",
    "    # Dict to hold weekly data.\n",
    "    weeklyData = {}\n",
    "    \n",
    "    # Declare starting dates. This will be changed to the first weekly report back in 1977.\n",
    "    date = datetime.date(1991, 12, 27) # This creates a datetime object that is not sliceable like a string is.\n",
    "    dateString = str(date)\n",
    "    \n",
    "    while page <= max_pages:\n",
    "        url = \"http://www.the-numbers.com/box-office-chart/weekly/\" + dateString[0:4] + \"/\" + dateString[5:7] + \"/\" + dateString[8:10]\n",
    "\n",
    "        # Take a 10 second break before requesting the URL to avoid blacklisting.\n",
    "        time.sleep(10)\n",
    "    \n",
    "        source_code = requests.get(url)\n",
    "        plain_text = source_code.text\n",
    "        soup = BeautifulSoup(plain_text, 'lxml')\n",
    "        \n",
    "        # Store all the table rows in the second table as a BS4 object.\n",
    "        tableRows = soup.find_all('table')[1].find_all('tr')\n",
    "        \n",
    "        # Save the data into the dictionary.\n",
    "        # Skips first row which holds header.\n",
    "        for row in tableRows[1:]:\n",
    "            title = row.a.get_text()\n",
    "            weeklyData[title] = {}\n",
    "            weeklyData[title]['weekEnded'] = dateString\n",
    "            weeklyData[title]['currentRank'] = row.td.get_text()\n",
    "            weeklyData[title]['prevRank'] = row.select('td')[1].get_text(strip=True)[1:-1] # Ignores the parens\n",
    "            weeklyData[title]['distributor'] = row.select('a')[1].get_text(strip=True)\n",
    "            weeklyData[title]['gross'] = int(row.select('td')[4].get_text(strip=True)[1:].replace(\",\", \"\")) # Finds the string for gross rev, strips lead/trailing spaces, replaces the commas with nothing, and ignores the first char which is a dollar sign. Whew.\n",
    "            weeklyData[title]['change'] = row.select('td')[5].get_text(strip=True)\n",
    "            weeklyData[title]['theaters'] = int(row.select('td')[6].get_text(strip=True).replace(\",\", \"\"))\n",
    "            weeklyData[title]['perThtr'] = int(row.select('td')[7].get_text(strip=True)[1:].replace(\",\", \"\"))\n",
    "            weeklyData[title]['totalGross'] = int(row.select('td')[8].get_text(strip=True)[1:].replace(\",\", \"\"))\n",
    "            weeklyData[title]['grossDays'] = int(row.select('td')[9].get_text(strip=True).replace(\",\", \"\"))\n",
    "            \n",
    "#         # Debug print.\n",
    "#         print(weeklyData)\n",
    "\n",
    "        # Dump the dict into a json file.\n",
    "        # Will think about writing it all to one giant file.\n",
    "        with open('the-numbers_weekly ' + dateString + \".json\", mode='wt', encoding='utf-8') as file:\n",
    "            json.dump(weeklyData, file)\n",
    "            \n",
    "        # Increment operations\n",
    "        date += datetime.timedelta(days=7)\n",
    "        dateString = str(date)            \n",
    "        page += 1\n",
    "        \n",
    "    print(\"done!\")"
   ]
  },
  {
   "cell_type": "code",
   "execution_count": 214,
   "metadata": {},
   "outputs": [
    {
     "name": "stdout",
     "output_type": "stream",
     "text": [
      "done!\n"
     ]
    }
   ],
   "source": [
    "the_numbers_spider(3)"
   ]
  }
 ],
 "metadata": {
  "kernelspec": {
   "display_name": "Python [default]",
   "language": "python",
   "name": "python3"
  },
  "language_info": {
   "codemirror_mode": {
    "name": "ipython",
    "version": 3
   },
   "file_extension": ".py",
   "mimetype": "text/x-python",
   "name": "python",
   "nbconvert_exporter": "python",
   "pygments_lexer": "ipython3",
   "version": "3.5.2"
  }
 },
 "nbformat": 4,
 "nbformat_minor": 2
}
